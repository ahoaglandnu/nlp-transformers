{
 "cells": [
  {
   "cell_type": "markdown",
   "metadata": {},
   "source": [
    "# NER Tutorial with Spacy\n"
   ]
  },
  {
   "cell_type": "markdown",
   "metadata": {},
   "source": [
    "\n",
    "In this tutorial, we will retrieve text from wikipedia to perform named entity recognition with spacy."
   ]
  },
  {
   "cell_type": "code",
   "execution_count": null,
   "metadata": {},
   "outputs": [],
   "source": [
    "import spacy, requests\n",
    "import pandas as pd\n",
    "from bs4 import BeautifulSoup"
   ]
  },
  {
   "cell_type": "code",
   "execution_count": null,
   "metadata": {},
   "outputs": [],
   "source": [
    "url = https://en.wikipedia.org/wiki/Leonardo_DiCaprio\n",
    "\n",
    "# Retrieve text from wikipedia\n",
    "response = requests.get(url)\n",
    "# Clean text\n",
    "soup = BeautifulSoup(response.text, 'html.parser')\n",
    "text = soup.find_all('p')\n",
    "text = [t.get_text() for t in text]\n"
   ]
  },
  {
   "cell_type": "markdown",
   "metadata": {},
   "source": [
    "## Create a dataframe from spacy-extracted entities"
   ]
  },
  {
   "cell_type": "markdown",
   "metadata": {},
   "source": [
    "Spacy has three pipelines for their English NLP models. We will use all three to compare results"
   ]
  },
  {
   "cell_type": "code",
   "execution_count": null,
   "metadata": {},
   "outputs": [],
   "source": [
    "# create a function to extract entities from text\n",
    "def get_entities(text):\n",
    "    doc = nlp(text)\n",
    "    return doc"
   ]
  },
  {
   "cell_type": "markdown",
   "metadata": {},
   "source": [
    "### en_core_web_sm"
   ]
  },
  {
   "cell_type": "code",
   "execution_count": null,
   "metadata": {},
   "outputs": [],
   "source": [
    "# Load the small English NLP model\n",
    "nlp = spacy.load('en_core_web_sm')\n",
    "\n",
    "# Create a doc object\n",
    "doc = get_entities(text)\n",
    "\n",
    "#  Optional manual review of entities and labels\n",
    "for ent in doc.ents:\n",
    "    print(ent.text, ent.label_)\n",
    "\n",
    "# create a table of the named entities and their labels\n",
    "sm_df = pd.DataFrame([(ent.text, ent.label_) for ent in doc.ents], columns=['Name Entity', 'Label'])\n",
    "df.head()\n",
    "\n",
    "\n",
    "\n"
   ]
  },
  {
   "cell_type": "markdown",
   "metadata": {},
   "source": [
    "### en_core_web_md"
   ]
  },
  {
   "cell_type": "code",
   "execution_count": null,
   "metadata": {},
   "outputs": [],
   "source": [
    "# Load the medium English NLP model\n",
    "nlp = spacy.load('en_core_web_md')\n",
    "\n",
    "# Create a doc object\n",
    "doc = get_entities(text)\n",
    "\n",
    "# create a table of the named entities and their labels\n",
    "md_df = pd.DataFrame([(ent.text, ent.label_) for ent in doc.ents], columns=['Name Entity', 'Label'])"
   ]
  },
  {
   "cell_type": "markdown",
   "metadata": {},
   "source": [
    "### en_core_web_lg"
   ]
  },
  {
   "cell_type": "code",
   "execution_count": null,
   "metadata": {},
   "outputs": [],
   "source": [
    "# Load the large English NLP model\n",
    "nlp = spacy.load('en_core_web_lg')\n",
    "\n",
    "# Create a doc object\n",
    "doc = get_entities(text)\n",
    "\n",
    "# create a table of the named entities and their labels\n",
    "lg_df = pd.DataFrame([(ent.text, ent.label_) for ent in doc.ents], columns=['Name Entity', 'Label'])\n"
   ]
  },
  {
   "cell_type": "markdown",
   "metadata": {},
   "source": [
    "### en_core_web_trf"
   ]
  },
  {
   "cell_type": "code",
   "execution_count": null,
   "metadata": {},
   "outputs": [],
   "source": [
    "# Load the transformer English NLP model\n",
    "nlp = spacy.load('en_core_web_trf')\n",
    "\n",
    "# Create a doc object\n",
    "doc = get_entities(text)\n",
    "\n",
    "# create a table of the named entities and their labels\n",
    "trf_df = pd.DataFrame([(ent.text, ent.label_) for ent in doc.ents], columns=['Name Entity', 'Label'])"
   ]
  },
  {
   "cell_type": "markdown",
   "metadata": {},
   "source": [
    "## Comparing Tables"
   ]
  },
  {
   "cell_type": "code",
   "execution_count": null,
   "metadata": {},
   "outputs": [],
   "source": [
    "# comparing the number of entities extracted by each model\n",
    "print('Small model entities: ', len(sm_df))\n",
    "print('Medium model entities: ', len(md_df))\n",
    "print('Large model entities: ', len(lg_df))\n",
    "print('Transformer model entities: ', len(trf_df))\n",
    "\n",
    "# comparing the number of labels extracted by each model\n",
    "print('Small model labels: ', len(sm_df['Label'].unique()))\n",
    "print('Medium model labels: ', len(md_df['Label'].unique()))\n",
    "print('Large model labels: ', len(lg_df['Label'].unique()))\n",
    "print('Transformer model labels: ', len(trf_df['Label'].unique()))"
   ]
  },
  {
   "cell_type": "code",
   "execution_count": null,
   "metadata": {},
   "outputs": [],
   "source": [
    "# Comparing what the transformer model extracted the small model did not\n",
    "trf_df[~trf_df['Name Entity'].isin(sm_df['Name Entity'])]"
   ]
  },
  {
   "cell_type": "code",
   "execution_count": null,
   "metadata": {},
   "outputs": [],
   "source": [
    "# Comparing what the transformer model extracted the medium model did not\n",
    "trf_df[~trf_df['Name Entity'].isin(md_df['Name Entity'])]"
   ]
  },
  {
   "cell_type": "code",
   "execution_count": null,
   "metadata": {},
   "outputs": [],
   "source": [
    "# Comparing what the transformer model extracted the large model did not\n",
    "trf_df[~trf_df['Name Entity'].isin(lg_df['Name Entity'])]"
   ]
  },
  {
   "cell_type": "code",
   "execution_count": null,
   "metadata": {},
   "outputs": [],
   "source": [
    "# Comparing what the transformer model labeled entities the small model did not\n",
    "trf_df[~trf_df['Label'].isin(sm_df['Label'])]"
   ]
  },
  {
   "cell_type": "code",
   "execution_count": null,
   "metadata": {},
   "outputs": [],
   "source": [
    "# Comparing what the transformer model labeled entities the medium model did not\n",
    "trf_df[~trf_df['Label'].isin(md_df['Label'])]"
   ]
  },
  {
   "cell_type": "code",
   "execution_count": null,
   "metadata": {},
   "outputs": [],
   "source": [
    "# Comparing what the transformer model labeled entities the large model did not\n",
    "trf_df[~trf_df['Label'].isin(lg_df['Label'])]"
   ]
  }
 ],
 "metadata": {
  "language_info": {
   "name": "python"
  }
 },
 "nbformat": 4,
 "nbformat_minor": 2
}
