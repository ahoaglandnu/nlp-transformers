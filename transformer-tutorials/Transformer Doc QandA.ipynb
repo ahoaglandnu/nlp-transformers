{
 "cells": [
  {
   "cell_type": "markdown",
   "metadata": {},
   "source": [
    "# Transformer for Document Question Answering with Gradio"
   ]
  },
  {
   "cell_type": "code",
   "execution_count": null,
   "metadata": {},
   "outputs": [],
   "source": [
    "from transformers import pipeline\n",
    "import gradio as gr"
   ]
  },
  {
   "cell_type": "code",
   "execution_count": null,
   "metadata": {},
   "outputs": [],
   "source": [
    "# Load a question-answering model\n",
    "qa_pipeline = pipeline(\"question-answering\")"
   ]
  },
  {
   "cell_type": "code",
   "execution_count": null,
   "metadata": {},
   "outputs": [],
   "source": [
    "# Define a function for question answering\n",
    "def answer_question(context, question):\n",
    "    result = qa_pipeline({'context': context, 'question': question})\n",
    "    return result['answer']"
   ]
  },
  {
   "cell_type": "code",
   "execution_count": null,
   "metadata": {},
   "outputs": [],
   "source": [
    "# Gradio interface for question answering demo\n",
    "iface = gr.Interface(\n",
    "    fn=answer_question, \n",
    "    inputs=[\n",
    "        gr.inputs.Textbox(label=\"Context\", lines=10, placeholder=\"Enter context here...\"),\n",
    "        gr.inputs.Textbox(label=\"Question\", lines=2, placeholder=\"Enter a question here...\")\n",
    "    ], \n",
    "    outputs=gr.outputs.Textbox(label=\"Answer\"),\n",
    "    title=\"Document Question Answering with Transformers\",\n",
    "    description=\"This tool uses transformers to answer questions based on the provided context.\"\n",
    ")"
   ]
  },
  {
   "cell_type": "code",
   "execution_count": null,
   "metadata": {},
   "outputs": [],
   "source": [
    "# Launch the Gradio interface (non-public)\n",
    "iface.launch(share=False)"
   ]
  }
 ],
 "metadata": {
  "language_info": {
   "name": "python"
  }
 },
 "nbformat": 4,
 "nbformat_minor": 2
}
