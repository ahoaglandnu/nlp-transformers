{
 "cells": [
  {
   "cell_type": "markdown",
   "metadata": {},
   "source": [
    "# Transformers and Gradio for Sentiment Analysis\n"
   ]
  },
  {
   "cell_type": "code",
   "execution_count": null,
   "metadata": {},
   "outputs": [],
   "source": [
    "from transformers import pipeline\n",
    "import gradio as gr"
   ]
  },
  {
   "cell_type": "code",
   "execution_count": null,
   "metadata": {},
   "outputs": [],
   "source": [
    "# Load DistilBERT pipeline for sentiment analysis\n",
    "model_name = \"distilbert-base-uncased-finetuned-sst-2-english\"\n",
    "sentiment_pipeline = pipeline(model=\"sentiment-analysis\", model=model_name)"
   ]
  },
  {
   "cell_type": "code",
   "execution_count": null,
   "metadata": {},
   "outputs": [],
   "source": [
    "# Define prediction function\n",
    "def predict_sentiment(text):\n",
    "    result = sentiment_pipeline(text)[0]\n",
    "    label = result['label']\n",
    "    confidence = round(result['score'], 4)\n",
    "    return label, confidence"
   ]
  },
  {
   "cell_type": "code",
   "execution_count": null,
   "metadata": {},
   "outputs": [],
   "source": [
    "# Define examples\n",
    "examples = [\n",
    "    [\"This movie was a delightful journey filled with spectacular performances and unforgettable moments.\"],\n",
    "    [\"It was a disappointing experience, with a lackluster plot and dull characters.\"],\n",
    "    [\"The movie was released in 2003 and had a runtime of about two hours.\"]\n",
    "]\n",
    "\n",
    "# Gradio interface with examples\n",
    "iface = gr.Interface(\n",
    "    fn=predict_sentiment,\n",
    "    inputs=gr.inputs.Textbox(lines=2, placeholder=\"Enter a sentence here...\"),\n",
    "    outputs=[\n",
    "        gr.outputs.Label(label=\"Sentiment\"),\n",
    "        gr.outputs.Textbox(label=\"Confidence\")\n",
    "    ],\n",
    "    examples=examples,\n",
    "    title=\"Sentiment Analysis with DistilBERT\",\n",
    "    description=\"This model predicts the sentiment of a given text as Positive or Negative.\"\n",
    ")"
   ]
  },
  {
   "cell_type": "code",
   "execution_count": null,
   "metadata": {},
   "outputs": [],
   "source": [
    "# Launch the interface without making it public\n",
    "iface.launch(share=False)"
   ]
  }
 ],
 "metadata": {
  "language_info": {
   "name": "python"
  }
 },
 "nbformat": 4,
 "nbformat_minor": 2
}
